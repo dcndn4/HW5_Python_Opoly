{
 "cells": [
  {
   "cell_type": "raw",
   "metadata": {},
   "source": [
    "04-Stu. This is the exercise, which follows the identically named demo.\n",
    "7:55 PM\n",
    "8:10 PM\n",
    "8:20 PM"
   ]
  },
  {
   "cell_type": "markdown",
   "metadata": {},
   "source": [
    "<font color='red'>Comment</font>\n",
    "\n",
    "This dataset uses CMS data, so a quick speil:\n",
    "\n",
    "Nobody grows up wanting to work in insurance, but health insurance **is** actually a highly sophisticated business, and you will never ever have a chance at mastering all elements. You can make a career out of becoming an expert in just taxonomy/ontologies. Or medicare. Or actuarial. Health insurance also has some of the most painfully complex databases out there, so db is a great opportunity. Or finance. Or healthcare economics. Or straight dev. Also, regulatory environment. All fields could benefit from technology. Minneapolis is home to many health insurance companies.\n",
    "\n",
    "Insurtech is growing fast these days. \n",
    "\n",
    "Either way though, with the right skillset, you can remain industry agnostic."
   ]
  },
  {
   "cell_type": "markdown",
   "metadata": {},
   "source": [
    "# hvPlot Widgets"
   ]
  },
  {
   "cell_type": "markdown",
   "metadata": {},
   "source": [
    "Your parents need help identifying the best states to move to that have the lowest Diabetes care costs. Use hvPlot and its widgets to visualize hospital claims data in order to identify potential states for recommendation."
   ]
  },
  {
   "cell_type": "code",
   "execution_count": 4,
   "metadata": {},
   "outputs": [],
   "source": [
    "import pandas as pd\n",
    "import hvplot.pandas\n",
    "from pathlib import Path"
   ]
  },
  {
   "cell_type": "markdown",
   "metadata": {},
   "source": [
    "### Prep Data"
   ]
  },
  {
   "cell_type": "markdown",
   "metadata": {},
   "source": [
    "<font color='red'>Comment</font>\n",
    "\n",
    "Have we seen header=0? We have seen header=None."
   ]
  },
  {
   "cell_type": "code",
   "execution_count": 7,
   "metadata": {},
   "outputs": [
    {
     "data": {
      "text/html": [
       "<div>\n",
       "<style scoped>\n",
       "    .dataframe tbody tr th:only-of-type {\n",
       "        vertical-align: middle;\n",
       "    }\n",
       "\n",
       "    .dataframe tbody tr th {\n",
       "        vertical-align: top;\n",
       "    }\n",
       "\n",
       "    .dataframe thead th {\n",
       "        text-align: right;\n",
       "    }\n",
       "</style>\n",
       "<table border=\"1\" class=\"dataframe\">\n",
       "  <thead>\n",
       "    <tr style=\"text-align: right;\">\n",
       "      <th></th>\n",
       "      <th>DRG Definition</th>\n",
       "      <th>Provider Id</th>\n",
       "      <th>Provider Name</th>\n",
       "      <th>Provider Street Address</th>\n",
       "      <th>Provider City</th>\n",
       "      <th>Provider State</th>\n",
       "      <th>Provider Zip Code</th>\n",
       "      <th>Hospital Referral Region Description</th>\n",
       "      <th>Total Discharges</th>\n",
       "      <th>Average Covered Charges</th>\n",
       "      <th>Average Total Payments</th>\n",
       "      <th>Average Medicare Payments</th>\n",
       "    </tr>\n",
       "  </thead>\n",
       "  <tbody>\n",
       "    <tr>\n",
       "      <th>0</th>\n",
       "      <td>039 - EXTRACRANIAL PROCEDURES W/O CC/MCC</td>\n",
       "      <td>10001</td>\n",
       "      <td>SOUTHEAST ALABAMA MEDICAL CENTER</td>\n",
       "      <td>1108 ROSS CLARK CIRCLE</td>\n",
       "      <td>DOTHAN</td>\n",
       "      <td>AL</td>\n",
       "      <td>36301</td>\n",
       "      <td>AL - Dothan</td>\n",
       "      <td>91</td>\n",
       "      <td>32963.07</td>\n",
       "      <td>5777.24</td>\n",
       "      <td>4763.73</td>\n",
       "    </tr>\n",
       "    <tr>\n",
       "      <th>1</th>\n",
       "      <td>039 - EXTRACRANIAL PROCEDURES W/O CC/MCC</td>\n",
       "      <td>10005</td>\n",
       "      <td>MARSHALL MEDICAL CENTER SOUTH</td>\n",
       "      <td>2505 U S HIGHWAY 431 NORTH</td>\n",
       "      <td>BOAZ</td>\n",
       "      <td>AL</td>\n",
       "      <td>35957</td>\n",
       "      <td>AL - Birmingham</td>\n",
       "      <td>14</td>\n",
       "      <td>15131.85</td>\n",
       "      <td>5787.57</td>\n",
       "      <td>4976.71</td>\n",
       "    </tr>\n",
       "    <tr>\n",
       "      <th>2</th>\n",
       "      <td>039 - EXTRACRANIAL PROCEDURES W/O CC/MCC</td>\n",
       "      <td>10006</td>\n",
       "      <td>ELIZA COFFEE MEMORIAL HOSPITAL</td>\n",
       "      <td>205 MARENGO STREET</td>\n",
       "      <td>FLORENCE</td>\n",
       "      <td>AL</td>\n",
       "      <td>35631</td>\n",
       "      <td>AL - Birmingham</td>\n",
       "      <td>24</td>\n",
       "      <td>37560.37</td>\n",
       "      <td>5434.95</td>\n",
       "      <td>4453.79</td>\n",
       "    </tr>\n",
       "    <tr>\n",
       "      <th>3</th>\n",
       "      <td>039 - EXTRACRANIAL PROCEDURES W/O CC/MCC</td>\n",
       "      <td>10011</td>\n",
       "      <td>ST VINCENT'S EAST</td>\n",
       "      <td>50 MEDICAL PARK EAST DRIVE</td>\n",
       "      <td>BIRMINGHAM</td>\n",
       "      <td>AL</td>\n",
       "      <td>35235</td>\n",
       "      <td>AL - Birmingham</td>\n",
       "      <td>25</td>\n",
       "      <td>13998.28</td>\n",
       "      <td>5417.56</td>\n",
       "      <td>4129.16</td>\n",
       "    </tr>\n",
       "    <tr>\n",
       "      <th>4</th>\n",
       "      <td>039 - EXTRACRANIAL PROCEDURES W/O CC/MCC</td>\n",
       "      <td>10016</td>\n",
       "      <td>SHELBY BAPTIST MEDICAL CENTER</td>\n",
       "      <td>1000 FIRST STREET NORTH</td>\n",
       "      <td>ALABASTER</td>\n",
       "      <td>AL</td>\n",
       "      <td>35007</td>\n",
       "      <td>AL - Birmingham</td>\n",
       "      <td>18</td>\n",
       "      <td>31633.27</td>\n",
       "      <td>5658.33</td>\n",
       "      <td>4851.44</td>\n",
       "    </tr>\n",
       "  </tbody>\n",
       "</table>\n",
       "</div>"
      ],
      "text/plain": [
       "                             DRG Definition  Provider Id  \\\n",
       "0  039 - EXTRACRANIAL PROCEDURES W/O CC/MCC        10001   \n",
       "1  039 - EXTRACRANIAL PROCEDURES W/O CC/MCC        10005   \n",
       "2  039 - EXTRACRANIAL PROCEDURES W/O CC/MCC        10006   \n",
       "3  039 - EXTRACRANIAL PROCEDURES W/O CC/MCC        10011   \n",
       "4  039 - EXTRACRANIAL PROCEDURES W/O CC/MCC        10016   \n",
       "\n",
       "                      Provider Name     Provider Street Address Provider City  \\\n",
       "0  SOUTHEAST ALABAMA MEDICAL CENTER      1108 ROSS CLARK CIRCLE        DOTHAN   \n",
       "1     MARSHALL MEDICAL CENTER SOUTH  2505 U S HIGHWAY 431 NORTH          BOAZ   \n",
       "2    ELIZA COFFEE MEMORIAL HOSPITAL          205 MARENGO STREET      FLORENCE   \n",
       "3                 ST VINCENT'S EAST  50 MEDICAL PARK EAST DRIVE    BIRMINGHAM   \n",
       "4     SHELBY BAPTIST MEDICAL CENTER     1000 FIRST STREET NORTH     ALABASTER   \n",
       "\n",
       "  Provider State  Provider Zip Code Hospital Referral Region Description  \\\n",
       "0             AL              36301                          AL - Dothan   \n",
       "1             AL              35957                      AL - Birmingham   \n",
       "2             AL              35631                      AL - Birmingham   \n",
       "3             AL              35235                      AL - Birmingham   \n",
       "4             AL              35007                      AL - Birmingham   \n",
       "\n",
       "   Total Discharges  Average Covered Charges  Average Total Payments  \\\n",
       "0                91                 32963.07                 5777.24   \n",
       "1                14                 15131.85                 5787.57   \n",
       "2                24                 37560.37                 5434.95   \n",
       "3                25                 13998.28                 5417.56   \n",
       "4                18                 31633.27                 5658.33   \n",
       "\n",
       "   Average Medicare Payments  \n",
       "0                    4763.73  \n",
       "1                    4976.71  \n",
       "2                    4453.79  \n",
       "3                    4129.16  \n",
       "4                    4851.44  "
      ]
     },
     "execution_count": 7,
     "metadata": {},
     "output_type": "execute_result"
    }
   ],
   "source": [
    "# Read in hospital claims data\n",
    "hsp_csv = Path= \"C:/Users/CS_Knit_tinK_SC/Documents/My Data Sources/101221/hospital_claims.csv\"\n",
    "hospital_data = pd.read_csv(hsp_csv, header=0)\n",
    "hospital_data.head()"
   ]
  },
  {
   "cell_type": "markdown",
   "metadata": {},
   "source": [
    "<font color='red'>Comment</font>\n",
    "\n",
    "DRG codes, proc codes...these are taxonomies/ontologies. Experts in this stuff are called medical 'coders', but they are not programmers.\n",
    "\n",
    "Anyways, the code below is confusing. Step through it sequentially by printing to see how it works, if there is time."
   ]
  },
  {
   "cell_type": "code",
   "execution_count": 8,
   "metadata": {},
   "outputs": [
    {
     "name": "stdout",
     "output_type": "stream",
     "text": [
      "(1820, 12)\n",
      "(59, 12)\n",
      "(59, 2)\n"
     ]
    }
   ],
   "source": [
    "# Slice the data\n",
    "procedure_699_charges = hospital_data[\n",
    "    hospital_data[\"DRG Definition\"] == \"638 - DIABETES W CC\"\n",
    "]  # we are filter down for certain rows\n",
    "\n",
    "# Select data just for NJ to get a baseline for Diabetes costs\n",
    "procedure_NJ_charges = procedure_699_charges.loc[\n",
    "    hospital_data[\"Provider State\"] == \"NJ\"\n",
    "]  # we are filter down for certain rows\n",
    "\n",
    "# Select Average Medicare Payments and Provider ID Series\n",
    "procedure_medicare_charges = procedure_NJ_charges[\n",
    "    [\"Average Medicare Payments\", \"Provider Id\"]\n",
    "]  # we are filter down for certain cols\n",
    "\n",
    "print(procedure_699_charges.shape)\n",
    "print(procedure_NJ_charges.shape)\n",
    "print(procedure_medicare_charges.shape)"
   ]
  },
  {
   "cell_type": "markdown",
   "metadata": {},
   "source": [
    "<font color='red'>Comment</font>\n",
    "\n",
    "Here is another snippet of code that is close to my heart. Think of this as an excel if(condition, then, else).\n",
    "\n",
    "Instead of slicing for certain rows, now we're adding another column with values resulting from certain conditions. You can use flat values or values from another column. Very powerful! Very clean and understandable!"
   ]
  },
  {
   "cell_type": "code",
   "execution_count": 9,
   "metadata": {},
   "outputs": [
    {
     "data": {
      "text/plain": [
       "0    False\n",
       "1    False\n",
       "2    False\n",
       "3    False\n",
       "4    False\n",
       "Name: new_column, dtype: object"
      ]
     },
     "execution_count": 9,
     "metadata": {},
     "output_type": "execute_result"
    }
   ],
   "source": [
    "import numpy as np \n",
    "\n",
    "hospital_data[\"new_column\"] = np.where(\n",
    "                                hospital_data[\"DRG Definition\"] == \"638 - DIABETES W CC\"\n",
    "                                ,  hospital_data[\"Provider Name\"]  # if True, this\n",
    "                                , \"False\")  # else\n",
    "\n",
    "hospital_data[\"new_column\"].head()"
   ]
  },
  {
   "cell_type": "markdown",
   "metadata": {},
   "source": [
    "### Plot and Explore Average Total Payments by State"
   ]
  },
  {
   "cell_type": "code",
   "execution_count": 10,
   "metadata": {},
   "outputs": [
    {
     "data": {},
     "metadata": {},
     "output_type": "display_data"
    },
    {
     "data": {
      "application/vnd.holoviews_exec.v0+json": "",
      "text/html": [
       "<div id='1002'>\n",
       "\n",
       "\n",
       "\n",
       "\n",
       "\n",
       "  <div class=\"bk-root\" id=\"4ad0faa9-a3d0-429a-8c28-50e4b0c35a9c\" data-root-id=\"1002\"></div>\n",
       "</div>\n",
       "<script type=\"application/javascript\">(function(root) {\n",
       "  function embed_document(root) {\n",
       "    var docs_json = {\"2b3fd6a0-1bfd-4ca5-be4b-2e1fc0a777e2\":{\"defs\":[{\"extends\":null,\"module\":null,\"name\":\"ReactiveHTML1\",\"overrides\":[],\"properties\":[]},{\"extends\":null,\"module\":null,\"name\":\"FlexBox1\",\"overrides\":[],\"properties\":[{\"default\":\"flex-start\",\"kind\":null,\"name\":\"align_content\"},{\"default\":\"flex-start\",\"kind\":null,\"name\":\"align_items\"},{\"default\":\"row\",\"kind\":null,\"name\":\"flex_direction\"},{\"default\":\"wrap\",\"kind\":null,\"name\":\"flex_wrap\"},{\"default\":\"flex-start\",\"kind\":null,\"name\":\"justify_content\"}]},{\"extends\":null,\"module\":null,\"name\":\"TemplateActions1\",\"overrides\":[],\"properties\":[{\"default\":0,\"kind\":null,\"name\":\"open_modal\"},{\"default\":0,\"kind\":null,\"name\":\"close_modal\"}]},{\"extends\":null,\"module\":null,\"name\":\"MaterialTemplateActions1\",\"overrides\":[],\"properties\":[{\"default\":0,\"kind\":null,\"name\":\"open_modal\"},{\"default\":0,\"kind\":null,\"name\":\"close_modal\"}]}],\"roots\":{\"references\":[{\"attributes\":{\"overlay\":{\"id\":\"1028\"}},\"id\":\"1026\",\"type\":\"BoxZoomTool\"},{\"attributes\":{\"below\":[{\"id\":\"1016\"}],\"center\":[{\"id\":\"1018\"},{\"id\":\"1022\"}],\"height\":300,\"left\":[{\"id\":\"1019\"}],\"margin\":[5,5,5,5],\"min_border_bottom\":10,\"min_border_left\":10,\"min_border_right\":10,\"min_border_top\":10,\"renderers\":[{\"id\":\"1042\"}],\"sizing_mode\":\"fixed\",\"title\":{\"id\":\"1008\"},\"toolbar\":{\"id\":\"1029\"},\"width\":700,\"x_range\":{\"id\":\"1004\"},\"x_scale\":{\"id\":\"1012\"},\"y_range\":{\"id\":\"1005\"},\"y_scale\":{\"id\":\"1014\"}},\"id\":\"1007\",\"subtype\":\"Figure\",\"type\":\"Plot\"},{\"attributes\":{\"axis\":{\"id\":\"1016\"},\"grid_line_color\":null,\"ticker\":null},\"id\":\"1018\",\"type\":\"Grid\"},{\"attributes\":{\"axis\":{\"id\":\"1019\"},\"dimension\":1,\"grid_line_color\":null,\"ticker\":null},\"id\":\"1022\",\"type\":\"Grid\"},{\"attributes\":{\"fill_color\":{\"value\":\"#30a2da\"},\"top\":{\"field\":\"Average_Total_Payments\"},\"width\":{\"value\":0.8},\"x\":{\"field\":\"Provider_State\"}},\"id\":\"1039\",\"type\":\"VBar\"},{\"attributes\":{\"axis_label\":\"Average Total Payments\",\"formatter\":{\"id\":\"1048\"},\"major_label_policy\":{\"id\":\"1049\"},\"ticker\":{\"id\":\"1020\"}},\"id\":\"1019\",\"type\":\"LinearAxis\"},{\"attributes\":{\"axis_label\":\"Provider State\",\"formatter\":{\"id\":\"1046\"},\"major_label_policy\":{\"id\":\"1047\"},\"ticker\":{\"id\":\"1017\"}},\"id\":\"1016\",\"type\":\"CategoricalAxis\"},{\"attributes\":{},\"id\":\"1049\",\"type\":\"AllLabels\"},{\"attributes\":{},\"id\":\"1046\",\"type\":\"CategoricalTickFormatter\"},{\"attributes\":{},\"id\":\"1012\",\"type\":\"CategoricalScale\"},{\"attributes\":{\"margin\":[5,5,5,5],\"name\":\"HSpacer01631\",\"sizing_mode\":\"stretch_width\"},\"id\":\"1071\",\"type\":\"Spacer\"},{\"attributes\":{\"text_color\":\"black\",\"text_font_size\":\"12pt\"},\"id\":\"1008\",\"type\":\"Title\"},{\"attributes\":{},\"id\":\"1014\",\"type\":\"LinearScale\"},{\"attributes\":{},\"id\":\"1017\",\"type\":\"CategoricalTicker\"},{\"attributes\":{\"source\":{\"id\":\"1036\"}},\"id\":\"1043\",\"type\":\"CDSView\"},{\"attributes\":{\"data_source\":{\"id\":\"1036\"},\"glyph\":{\"id\":\"1039\"},\"hover_glyph\":null,\"muted_glyph\":{\"id\":\"1041\"},\"nonselection_glyph\":{\"id\":\"1040\"},\"selection_glyph\":{\"id\":\"1044\"},\"view\":{\"id\":\"1043\"}},\"id\":\"1042\",\"type\":\"GlyphRenderer\"},{\"attributes\":{},\"id\":\"1020\",\"type\":\"BasicTicker\"},{\"attributes\":{\"end\":1320004.9989999994,\"reset_end\":1320004.9989999994,\"reset_start\":0.0,\"tags\":[[[\"Average Total Payments\",\"Average Total Payments\",null]]]},\"id\":\"1005\",\"type\":\"Range1d\"},{\"attributes\":{},\"id\":\"1048\",\"type\":\"BasicTickFormatter\"},{\"attributes\":{\"children\":[{\"id\":\"1003\"},{\"id\":\"1007\"},{\"id\":\"1071\"}],\"margin\":[0,0,0,0],\"name\":\"Row01626\",\"tags\":[\"embedded\"]},\"id\":\"1002\",\"type\":\"Row\"},{\"attributes\":{},\"id\":\"1047\",\"type\":\"AllLabels\"},{\"attributes\":{\"bottom_units\":\"screen\",\"fill_alpha\":0.5,\"fill_color\":\"lightgrey\",\"left_units\":\"screen\",\"level\":\"overlay\",\"line_alpha\":1.0,\"line_color\":\"black\",\"line_dash\":[4,4],\"line_width\":2,\"right_units\":\"screen\",\"syncable\":false,\"top_units\":\"screen\"},\"id\":\"1028\",\"type\":\"BoxAnnotation\"},{\"attributes\":{\"bottom\":{\"value\":0},\"fill_alpha\":{\"value\":1.0},\"fill_color\":{\"value\":\"#30a2da\"},\"hatch_alpha\":{\"value\":1.0},\"hatch_color\":{\"value\":\"black\"},\"hatch_scale\":{\"value\":12.0},\"hatch_weight\":{\"value\":1.0},\"line_alpha\":{\"value\":1.0},\"line_cap\":{\"value\":\"butt\"},\"line_color\":{\"value\":\"black\"},\"line_dash\":{\"value\":[]},\"line_dash_offset\":{\"value\":0},\"line_join\":{\"value\":\"bevel\"},\"line_width\":{\"value\":1},\"top\":{\"field\":\"Average_Total_Payments\"},\"width\":{\"value\":0.8},\"x\":{\"field\":\"Provider_State\"}},\"id\":\"1044\",\"type\":\"VBar\"},{\"attributes\":{\"callback\":null,\"renderers\":[{\"id\":\"1042\"}],\"tags\":[\"hv_created\"],\"tooltips\":[[\"Provider State\",\"@{Provider_State}\"],[\"Average Total Payments\",\"@{Average_Total_Payments}\"]]},\"id\":\"1006\",\"type\":\"HoverTool\"},{\"attributes\":{\"fill_alpha\":{\"value\":0.2},\"fill_color\":{\"value\":\"#30a2da\"},\"line_alpha\":{\"value\":0.2},\"top\":{\"field\":\"Average_Total_Payments\"},\"width\":{\"value\":0.8},\"x\":{\"field\":\"Provider_State\"}},\"id\":\"1041\",\"type\":\"VBar\"},{\"attributes\":{},\"id\":\"1037\",\"type\":\"Selection\"},{\"attributes\":{\"factors\":[\"AK\",\"AL\",\"AR\",\"AZ\",\"CA\",\"CO\",\"CT\",\"DC\",\"DE\",\"FL\",\"GA\",\"HI\",\"IA\",\"ID\",\"IL\",\"IN\",\"KS\",\"KY\",\"LA\",\"MA\",\"MD\",\"ME\",\"MI\",\"MN\",\"MO\",\"MS\",\"MT\",\"NC\",\"ND\",\"NE\",\"NH\",\"NJ\",\"NM\",\"NV\",\"NY\",\"OH\",\"OK\",\"OR\",\"PA\",\"RI\",\"SC\",\"SD\",\"TN\",\"TX\",\"UT\",\"VA\",\"VT\",\"WA\",\"WI\",\"WV\",\"WY\"],\"tags\":[[[\"Provider State\",\"Provider State\",null]]]},\"id\":\"1004\",\"type\":\"FactorRange\"},{\"attributes\":{\"active_multi\":null,\"tools\":[{\"id\":\"1006\"},{\"id\":\"1023\"},{\"id\":\"1024\"},{\"id\":\"1025\"},{\"id\":\"1026\"},{\"id\":\"1027\"}]},\"id\":\"1029\",\"type\":\"Toolbar\"},{\"attributes\":{},\"id\":\"1027\",\"type\":\"ResetTool\"},{\"attributes\":{\"margin\":[5,5,5,5],\"name\":\"HSpacer01630\",\"sizing_mode\":\"stretch_width\"},\"id\":\"1003\",\"type\":\"Spacer\"},{\"attributes\":{},\"id\":\"1023\",\"type\":\"SaveTool\"},{\"attributes\":{},\"id\":\"1059\",\"type\":\"UnionRenderers\"},{\"attributes\":{\"fill_alpha\":{\"value\":0.1},\"fill_color\":{\"value\":\"#30a2da\"},\"line_alpha\":{\"value\":0.1},\"top\":{\"field\":\"Average_Total_Payments\"},\"width\":{\"value\":0.8},\"x\":{\"field\":\"Provider_State\"}},\"id\":\"1040\",\"type\":\"VBar\"},{\"attributes\":{},\"id\":\"1024\",\"type\":\"PanTool\"},{\"attributes\":{\"data\":{\"Average_Total_Payments\":{\"__ndarray__\":\"61G4HoVSzkBJ4XoUOr8HQa9H4XogSPtAcT0K1ydTA0E7CtfjWVQyQa5H4XoYi/RASOF6FEIcAEFSuB6F40vmQML1KFx/8NxAMzMzs0ocJEGE61G4eQwTQexRuB5FKMtAuB6F69Wh9EA0MzMzA6XaQPYoXA9NvyBBR+F6FMpaCkFI4XoUjhfwQFyPwvUE0ghB9ShcjxhECEEoXI/Cnt0RQQAAAAB1KBNBCtejcCVD6EDtUbgepRUVQZmZmZkJS/lANjMzM4FADUEK16Nwz9ICQUjhehQe89NACtejcLR5FUF7FK5HUZrVQJqZmZlJYt5A7FG4Hn3B4kB6FK5HjS8XQZmZmZmtCPNApHA9CrP58kBG4XqUQ5UqQYzC9ShuHhpBmpmZmQMNAUHXo3A98gvrQO1RuB5K9x1BzMzMzGSX5kC5HoXroTkHQa5H4Xok59BA4XoUrhkVDUF8FK5HU/QlQVK4HoVT7eFAehSuRzH/DkHsUbgexc/TQPcoXI/cqQVBFK5H4Vz/AEEzMzMzI53zQGZmZmZmlcpA\",\"dtype\":\"float64\",\"order\":\"little\",\"shape\":[51]},\"Provider_State\":[\"AK\",\"AL\",\"AR\",\"AZ\",\"CA\",\"CO\",\"CT\",\"DC\",\"DE\",\"FL\",\"GA\",\"HI\",\"IA\",\"ID\",\"IL\",\"IN\",\"KS\",\"KY\",\"LA\",\"MA\",\"MD\",\"ME\",\"MI\",\"MN\",\"MO\",\"MS\",\"MT\",\"NC\",\"ND\",\"NE\",\"NH\",\"NJ\",\"NM\",\"NV\",\"NY\",\"OH\",\"OK\",\"OR\",\"PA\",\"RI\",\"SC\",\"SD\",\"TN\",\"TX\",\"UT\",\"VA\",\"VT\",\"WA\",\"WI\",\"WV\",\"WY\"]},\"selected\":{\"id\":\"1037\"},\"selection_policy\":{\"id\":\"1059\"}},\"id\":\"1036\",\"type\":\"ColumnDataSource\"},{\"attributes\":{},\"id\":\"1025\",\"type\":\"WheelZoomTool\"}],\"root_ids\":[\"1002\"]},\"title\":\"Bokeh Application\",\"version\":\"2.3.2\"}};\n",
       "    var render_items = [{\"docid\":\"2b3fd6a0-1bfd-4ca5-be4b-2e1fc0a777e2\",\"root_ids\":[\"1002\"],\"roots\":{\"1002\":\"4ad0faa9-a3d0-429a-8c28-50e4b0c35a9c\"}}];\n",
       "    root.Bokeh.embed.embed_items_notebook(docs_json, render_items);\n",
       "  }\n",
       "  if (root.Bokeh !== undefined && root.Bokeh.Panel !== undefined) {\n",
       "    embed_document(root);\n",
       "  } else {\n",
       "    var attempts = 0;\n",
       "    var timer = setInterval(function(root) {\n",
       "      if (root.Bokeh !== undefined && root.Bokeh.Panel !== undefined) {\n",
       "        clearInterval(timer);\n",
       "        embed_document(root);\n",
       "      } else if (document.readyState == \"complete\") {\n",
       "        attempts++;\n",
       "        if (attempts > 200) {\n",
       "          clearInterval(timer);\n",
       "          console.log(\"Bokeh: ERROR: Unable to run BokehJS code because BokehJS library is missing\");\n",
       "        }\n",
       "      }\n",
       "    }, 25, root)\n",
       "  }\n",
       "})(window);</script>"
      ],
      "text/plain": [
       ":Bars   [Provider State]   (Average Total Payments)"
      ]
     },
     "execution_count": 10,
     "metadata": {
      "application/vnd.holoviews_exec.v0+json": {
       "id": "1002"
      }
     },
     "output_type": "execute_result"
    }
   ],
   "source": [
    "# Group data by state and average total payments. and then sum\n",
    "payment_by_state = procedure_699_charges[[\"Average Total Payments\", \"Provider State\"]]\n",
    "total_payment_by_state = payment_by_state.groupby(\"Provider State\").sum()\n",
    "\n",
    "# Plot data using hvplot.bar\n",
    "total_payment_by_state.hvplot.bar()"
   ]
  },
  {
   "cell_type": "markdown",
   "metadata": {},
   "source": [
    "### Sort the cost data from low to high and then plot"
   ]
  },
  {
   "cell_type": "code",
   "execution_count": 11,
   "metadata": {},
   "outputs": [
    {
     "data": {},
     "metadata": {},
     "output_type": "display_data"
    },
    {
     "data": {
      "application/vnd.holoviews_exec.v0+json": "",
      "text/html": [
       "<div id='1123'>\n",
       "\n",
       "\n",
       "\n",
       "\n",
       "\n",
       "  <div class=\"bk-root\" id=\"229e45e9-1908-42bc-8760-1de9ae6b62ff\" data-root-id=\"1123\"></div>\n",
       "</div>\n",
       "<script type=\"application/javascript\">(function(root) {\n",
       "  function embed_document(root) {\n",
       "    var docs_json = {\"b9196103-6eab-4758-b20b-a7b68b68878a\":{\"defs\":[{\"extends\":null,\"module\":null,\"name\":\"ReactiveHTML1\",\"overrides\":[],\"properties\":[]},{\"extends\":null,\"module\":null,\"name\":\"FlexBox1\",\"overrides\":[],\"properties\":[{\"default\":\"flex-start\",\"kind\":null,\"name\":\"align_content\"},{\"default\":\"flex-start\",\"kind\":null,\"name\":\"align_items\"},{\"default\":\"row\",\"kind\":null,\"name\":\"flex_direction\"},{\"default\":\"wrap\",\"kind\":null,\"name\":\"flex_wrap\"},{\"default\":\"flex-start\",\"kind\":null,\"name\":\"justify_content\"}]},{\"extends\":null,\"module\":null,\"name\":\"TemplateActions1\",\"overrides\":[],\"properties\":[{\"default\":0,\"kind\":null,\"name\":\"open_modal\"},{\"default\":0,\"kind\":null,\"name\":\"close_modal\"}]},{\"extends\":null,\"module\":null,\"name\":\"MaterialTemplateActions1\",\"overrides\":[],\"properties\":[{\"default\":0,\"kind\":null,\"name\":\"open_modal\"},{\"default\":0,\"kind\":null,\"name\":\"close_modal\"}]}],\"roots\":{\"references\":[{\"attributes\":{\"margin\":[5,5,5,5],\"name\":\"HSpacer01780\",\"sizing_mode\":\"stretch_width\"},\"id\":\"1192\",\"type\":\"Spacer\"},{\"attributes\":{},\"id\":\"1141\",\"type\":\"BasicTicker\"},{\"attributes\":{\"end\":1320004.9989999994,\"reset_end\":1320004.9989999994,\"reset_start\":-105152.30899999994,\"start\":-105152.30899999994,\"tags\":[[[\"Average Total Payments\",\"Average Total Payments\",null]]]},\"id\":\"1126\",\"type\":\"Range1d\"},{\"attributes\":{\"axis\":{\"id\":\"1140\"},\"dimension\":1,\"grid_line_color\":null,\"ticker\":null},\"id\":\"1143\",\"type\":\"Grid\"},{\"attributes\":{\"bottom_units\":\"screen\",\"fill_alpha\":0.5,\"fill_color\":\"lightgrey\",\"left_units\":\"screen\",\"level\":\"overlay\",\"line_alpha\":1.0,\"line_color\":\"black\",\"line_dash\":[4,4],\"line_width\":2,\"right_units\":\"screen\",\"syncable\":false,\"top_units\":\"screen\"},\"id\":\"1149\",\"type\":\"BoxAnnotation\"},{\"attributes\":{\"data_source\":{\"id\":\"1157\"},\"glyph\":{\"id\":\"1160\"},\"hover_glyph\":null,\"muted_glyph\":{\"id\":\"1162\"},\"nonselection_glyph\":{\"id\":\"1161\"},\"selection_glyph\":{\"id\":\"1165\"},\"view\":{\"id\":\"1164\"}},\"id\":\"1163\",\"type\":\"GlyphRenderer\"},{\"attributes\":{\"below\":[{\"id\":\"1137\"}],\"center\":[{\"id\":\"1139\"},{\"id\":\"1143\"}],\"height\":300,\"left\":[{\"id\":\"1140\"}],\"margin\":[5,5,5,5],\"min_border_bottom\":10,\"min_border_left\":10,\"min_border_right\":10,\"min_border_top\":10,\"renderers\":[{\"id\":\"1163\"}],\"sizing_mode\":\"fixed\",\"title\":{\"id\":\"1129\"},\"toolbar\":{\"id\":\"1150\"},\"width\":700,\"x_range\":{\"id\":\"1125\"},\"x_scale\":{\"id\":\"1133\"},\"y_range\":{\"id\":\"1126\"},\"y_scale\":{\"id\":\"1135\"}},\"id\":\"1128\",\"subtype\":\"Figure\",\"type\":\"Plot\"},{\"attributes\":{\"active_multi\":null,\"tools\":[{\"id\":\"1127\"},{\"id\":\"1144\"},{\"id\":\"1145\"},{\"id\":\"1146\"},{\"id\":\"1147\"},{\"id\":\"1148\"}]},\"id\":\"1150\",\"type\":\"Toolbar\"},{\"attributes\":{},\"id\":\"1170\",\"type\":\"AllLabels\"},{\"attributes\":{},\"id\":\"1168\",\"type\":\"AllLabels\"},{\"attributes\":{\"source\":{\"id\":\"1157\"}},\"id\":\"1164\",\"type\":\"CDSView\"},{\"attributes\":{\"callback\":null,\"renderers\":[{\"id\":\"1163\"}],\"tags\":[\"hv_created\"],\"tooltips\":[[\"Provider State\",\"@{Provider_State}\"],[\"Average Total Payments\",\"@{Average_Total_Payments}\"]]},\"id\":\"1127\",\"type\":\"HoverTool\"},{\"attributes\":{\"line_alpha\":0.2,\"line_color\":\"#30a2da\",\"line_width\":2,\"x\":{\"field\":\"Provider State\"},\"y\":{\"field\":\"Average Total Payments\"}},\"id\":\"1162\",\"type\":\"Line\"},{\"attributes\":{\"line_alpha\":0.1,\"line_color\":\"#30a2da\",\"line_width\":2,\"x\":{\"field\":\"Provider State\"},\"y\":{\"field\":\"Average Total Payments\"}},\"id\":\"1161\",\"type\":\"Line\"},{\"attributes\":{},\"id\":\"1144\",\"type\":\"SaveTool\"},{\"attributes\":{},\"id\":\"1145\",\"type\":\"PanTool\"},{\"attributes\":{},\"id\":\"1169\",\"type\":\"BasicTickFormatter\"},{\"attributes\":{},\"id\":\"1148\",\"type\":\"ResetTool\"},{\"attributes\":{\"axis_label\":\"Provider State\",\"formatter\":{\"id\":\"1167\"},\"major_label_policy\":{\"id\":\"1168\"},\"ticker\":{\"id\":\"1138\"}},\"id\":\"1137\",\"type\":\"CategoricalAxis\"},{\"attributes\":{},\"id\":\"1146\",\"type\":\"WheelZoomTool\"},{\"attributes\":{\"line_color\":\"#30a2da\",\"line_width\":2,\"x\":{\"field\":\"Provider State\"},\"y\":{\"field\":\"Average Total Payments\"}},\"id\":\"1160\",\"type\":\"Line\"},{\"attributes\":{\"line_color\":\"#30a2da\",\"line_width\":2,\"x\":{\"field\":\"Provider State\"},\"y\":{\"field\":\"Average Total Payments\"}},\"id\":\"1165\",\"type\":\"Line\"},{\"attributes\":{\"overlay\":{\"id\":\"1149\"}},\"id\":\"1147\",\"type\":\"BoxZoomTool\"},{\"attributes\":{},\"id\":\"1158\",\"type\":\"Selection\"},{\"attributes\":{\"text_color\":\"black\",\"text_font_size\":\"12pt\"},\"id\":\"1129\",\"type\":\"Title\"},{\"attributes\":{\"data\":{\"Average Total Payments\":{\"__ndarray__\":\"ZmZmZmaVykDsUbgeRSjLQOtRuB6FUs5ArkfheiTn0EDsUbgexc/TQEjhehQe89NAexSuR1Ga1UA0MzMzA6XaQML1KFx/8NxAmpmZmUli3kBSuB6FU+3hQOxRuB59weJAUrgeheNL5kDMzMzMZJfmQArXo3AlQ+hA16NwPfIL60BI4XoUjhfwQKRwPQqz+fJAmZmZma0I80AzMzMzI53zQK5H4XoYi/RAuB6F69Wh9ECZmZmZCUv5QK9H4XogSPtASOF6FEIcAEEUrkfhXP8AQZqZmZkDDQFBCtejcM/SAkFxPQrXJ1MDQfcoXI/cqQVBuR6F66E5B0FJ4XoUOr8HQfUoXI8YRAhBXI/C9QTSCEFH4XoUyloKQeF6FK4ZFQ1BNjMzM4FADUF6FK5HMf8OQShcj8Ke3RFBhOtRuHkME0EAAAAAdSgTQe1RuB6lFRVBCtejcLR5FUF6FK5HjS8XQYzC9ShuHhpB7VG4Hkr3HUH2KFwPTb8gQTMzM7NKHCRBfBSuR1P0JUFG4XqUQ5UqQTsK1+NZVDJB\",\"dtype\":\"float64\",\"order\":\"little\",\"shape\":[51]},\"Average_Total_Payments\":{\"__ndarray__\":\"ZmZmZmaVykDsUbgeRSjLQOtRuB6FUs5ArkfheiTn0EDsUbgexc/TQEjhehQe89NAexSuR1Ga1UA0MzMzA6XaQML1KFx/8NxAmpmZmUli3kBSuB6FU+3hQOxRuB59weJAUrgeheNL5kDMzMzMZJfmQArXo3AlQ+hA16NwPfIL60BI4XoUjhfwQKRwPQqz+fJAmZmZma0I80AzMzMzI53zQK5H4XoYi/RAuB6F69Wh9ECZmZmZCUv5QK9H4XogSPtASOF6FEIcAEEUrkfhXP8AQZqZmZkDDQFBCtejcM/SAkFxPQrXJ1MDQfcoXI/cqQVBuR6F66E5B0FJ4XoUOr8HQfUoXI8YRAhBXI/C9QTSCEFH4XoUyloKQeF6FK4ZFQ1BNjMzM4FADUF6FK5HMf8OQShcj8Ke3RFBhOtRuHkME0EAAAAAdSgTQe1RuB6lFRVBCtejcLR5FUF6FK5HjS8XQYzC9ShuHhpB7VG4Hkr3HUH2KFwPTb8gQTMzM7NKHCRBfBSuR1P0JUFG4XqUQ5UqQTsK1+NZVDJB\",\"dtype\":\"float64\",\"order\":\"little\",\"shape\":[51]},\"Provider State\":[\"WY\",\"HI\",\"AK\",\"SD\",\"VT\",\"MT\",\"ND\",\"ID\",\"DE\",\"NE\",\"UT\",\"NH\",\"DC\",\"RI\",\"ME\",\"OR\",\"KS\",\"NV\",\"NM\",\"WV\",\"CO\",\"IA\",\"MN\",\"AR\",\"CT\",\"WI\",\"OK\",\"MS\",\"AZ\",\"WA\",\"SC\",\"AL\",\"LA\",\"KY\",\"IN\",\"TN\",\"MO\",\"VA\",\"MA\",\"GA\",\"MD\",\"MI\",\"NC\",\"NJ\",\"OH\",\"PA\",\"IL\",\"FL\",\"TX\",\"NY\",\"CA\"],\"Provider_State\":[\"WY\",\"HI\",\"AK\",\"SD\",\"VT\",\"MT\",\"ND\",\"ID\",\"DE\",\"NE\",\"UT\",\"NH\",\"DC\",\"RI\",\"ME\",\"OR\",\"KS\",\"NV\",\"NM\",\"WV\",\"CO\",\"IA\",\"MN\",\"AR\",\"CT\",\"WI\",\"OK\",\"MS\",\"AZ\",\"WA\",\"SC\",\"AL\",\"LA\",\"KY\",\"IN\",\"TN\",\"MO\",\"VA\",\"MA\",\"GA\",\"MD\",\"MI\",\"NC\",\"NJ\",\"OH\",\"PA\",\"IL\",\"FL\",\"TX\",\"NY\",\"CA\"]},\"selected\":{\"id\":\"1158\"},\"selection_policy\":{\"id\":\"1180\"}},\"id\":\"1157\",\"type\":\"ColumnDataSource\"},{\"attributes\":{\"axis\":{\"id\":\"1137\"},\"grid_line_color\":null,\"ticker\":null},\"id\":\"1139\",\"type\":\"Grid\"},{\"attributes\":{\"children\":[{\"id\":\"1124\"},{\"id\":\"1128\"},{\"id\":\"1192\"}],\"margin\":[0,0,0,0],\"name\":\"Row01775\",\"tags\":[\"embedded\"]},\"id\":\"1123\",\"type\":\"Row\"},{\"attributes\":{},\"id\":\"1133\",\"type\":\"CategoricalScale\"},{\"attributes\":{},\"id\":\"1167\",\"type\":\"CategoricalTickFormatter\"},{\"attributes\":{},\"id\":\"1180\",\"type\":\"UnionRenderers\"},{\"attributes\":{},\"id\":\"1135\",\"type\":\"LinearScale\"},{\"attributes\":{\"axis_label\":\"Average Total Payments\",\"formatter\":{\"id\":\"1169\"},\"major_label_policy\":{\"id\":\"1170\"},\"ticker\":{\"id\":\"1141\"}},\"id\":\"1140\",\"type\":\"LinearAxis\"},{\"attributes\":{},\"id\":\"1138\",\"type\":\"CategoricalTicker\"},{\"attributes\":{\"factors\":[\"WY\",\"HI\",\"AK\",\"SD\",\"VT\",\"MT\",\"ND\",\"ID\",\"DE\",\"NE\",\"UT\",\"NH\",\"DC\",\"RI\",\"ME\",\"OR\",\"KS\",\"NV\",\"NM\",\"WV\",\"CO\",\"IA\",\"MN\",\"AR\",\"CT\",\"WI\",\"OK\",\"MS\",\"AZ\",\"WA\",\"SC\",\"AL\",\"LA\",\"KY\",\"IN\",\"TN\",\"MO\",\"VA\",\"MA\",\"GA\",\"MD\",\"MI\",\"NC\",\"NJ\",\"OH\",\"PA\",\"IL\",\"FL\",\"TX\",\"NY\",\"CA\"],\"tags\":[[[\"Provider State\",\"Provider State\",null]]]},\"id\":\"1125\",\"type\":\"FactorRange\"},{\"attributes\":{\"margin\":[5,5,5,5],\"name\":\"HSpacer01779\",\"sizing_mode\":\"stretch_width\"},\"id\":\"1124\",\"type\":\"Spacer\"}],\"root_ids\":[\"1123\"]},\"title\":\"Bokeh Application\",\"version\":\"2.3.2\"}};\n",
       "    var render_items = [{\"docid\":\"b9196103-6eab-4758-b20b-a7b68b68878a\",\"root_ids\":[\"1123\"],\"roots\":{\"1123\":\"229e45e9-1908-42bc-8760-1de9ae6b62ff\"}}];\n",
       "    root.Bokeh.embed.embed_items_notebook(docs_json, render_items);\n",
       "  }\n",
       "  if (root.Bokeh !== undefined && root.Bokeh.Panel !== undefined) {\n",
       "    embed_document(root);\n",
       "  } else {\n",
       "    var attempts = 0;\n",
       "    var timer = setInterval(function(root) {\n",
       "      if (root.Bokeh !== undefined && root.Bokeh.Panel !== undefined) {\n",
       "        clearInterval(timer);\n",
       "        embed_document(root);\n",
       "      } else if (document.readyState == \"complete\") {\n",
       "        attempts++;\n",
       "        if (attempts > 200) {\n",
       "          clearInterval(timer);\n",
       "          console.log(\"Bokeh: ERROR: Unable to run BokehJS code because BokehJS library is missing\");\n",
       "        }\n",
       "      }\n",
       "    }, 25, root)\n",
       "  }\n",
       "})(window);</script>"
      ],
      "text/plain": [
       ":Curve   [Provider State]   (Average Total Payments)"
      ]
     },
     "execution_count": 11,
     "metadata": {
      "application/vnd.holoviews_exec.v0+json": {
       "id": "1123"
      }
     },
     "output_type": "execute_result"
    }
   ],
   "source": [
    "# Sort data values\n",
    "total_payment_by_state.sort_values(\"Average Total Payments\").hvplot()"
   ]
  },
  {
   "cell_type": "code",
   "execution_count": null,
   "metadata": {},
   "outputs": [],
   "source": []
  },
  {
   "cell_type": "code",
   "execution_count": null,
   "metadata": {},
   "outputs": [],
   "source": []
  }
 ],
 "metadata": {
  "kernel_info": {
   "name": "python3"
  },
  "kernelspec": {
   "display_name": "Python 3",
   "language": "python",
   "name": "python3"
  },
  "language_info": {
   "codemirror_mode": {
    "name": "ipython",
    "version": 3
   },
   "file_extension": ".py",
   "mimetype": "text/x-python",
   "name": "python",
   "nbconvert_exporter": "python",
   "pygments_lexer": "ipython3",
   "version": "3.7.10"
  },
  "nteract": {
   "version": "0.12.3"
  }
 },
 "nbformat": 4,
 "nbformat_minor": 4
}
